{
 "metadata": {
  "name": "",
  "signature": "sha256:c51a6cd05b54c74b3329cb62688ca27fa05ab8b29c67488a23a17cf3b2240c85"
 },
 "nbformat": 3,
 "nbformat_minor": 0,
 "worksheets": [
  {
   "cells": [
    {
     "cell_type": "code",
     "collapsed": false,
     "input": [
      "import sys\n",
      "sys.path.append('../')\n",
      "import numpy as np\n",
      "import tucker3d as tuck"
     ],
     "language": "python",
     "metadata": {},
     "outputs": [
      {
       "output_type": "stream",
       "stream": "stderr",
       "text": [
        "Vendor:  Continuum Analytics, Inc.\n",
        "Package: mkl\n",
        "Message: trial mode expires in 30 days\n"
       ]
      }
     ],
     "prompt_number": 1
    },
    {
     "cell_type": "code",
     "collapsed": false,
     "input": [
      "np.random.seed(1)\n",
      "\n",
      "N = 2**12\n",
      "M = 2*N-1\n",
      "print 'N= %s' % N\n",
      "\n",
      "eps = 1e-7\n",
      "print 'Accuracy: %s' % eps\n",
      "\n",
      "a = -5.\n",
      "b = abs(a)\n",
      "h = (b-a)/(N-1)\n",
      "\n",
      "\n",
      "h=(b-a)/(N-1)\n",
      "\n",
      "newton_const = 1./(4*np.pi)* h**3\n",
      "\n",
      "x = np.zeros(N)\n",
      "for i in xrange(N):\n",
      "    x[i] = a + i*h\n",
      "\n",
      "def slater_func((i,j,k)):\n",
      "    return np.exp(-(x[i]**2 + x[j]**2 + x[k]**2)**0.5)\n",
      "\n",
      "\n",
      "def newton_func((i,j,k)):\n",
      "    return newton_const * 1./((x[i])**2 + (x[j])**2 + (x[k])**2)**0.5"
     ],
     "language": "python",
     "metadata": {},
     "outputs": [
      {
       "output_type": "stream",
       "stream": "stdout",
       "text": [
        "N= 4096\n",
        "Accuracy: 1e-07\n"
       ]
      }
     ],
     "prompt_number": 2
    },
    {
     "cell_type": "code",
     "collapsed": false,
     "input": [
      "print 'WARNING!'\n",
      "print 'Very slow part (cross approximation of Slater and Newton funs).'\n",
      "print 'It does not influence cross-conv time performance.'\n",
      "print 'Will be updated soon.'\n",
      "print 'In process...'\n",
      "slater = tuck.cross.cross3d(slater_func, N, eps, delta_add = 1e-5)\n",
      "newton = tuck.cross.cross3d(newton_func, N, eps, delta_add = 1e-5)\n",
      "newton = tuck.cross.toepl2circ(newton)"
     ],
     "language": "python",
     "metadata": {},
     "outputs": [
      {
       "output_type": "stream",
       "stream": "stdout",
       "text": [
        "WARNING!\n",
        "Very slow part (cross approximation of Slater and Newton funs).\n",
        "It does not influence cross-conv time performance.\n",
        "Will be updated soon.\n",
        "In process...\n"
       ]
      }
     ],
     "prompt_number": 3
    },
    {
     "cell_type": "code",
     "collapsed": false,
     "input": [
      "#%load_ext line_profiler\n",
      "%prun tuck.cross.multifun([slater], eps, fun = lambda a: a[0]**3 + a[0])"
     ],
     "language": "python",
     "metadata": {},
     "outputs": [
      {
       "output_type": "stream",
       "stream": "stdout",
       "text": [
        " "
       ]
      }
     ],
     "prompt_number": 7
    },
    {
     "cell_type": "code",
     "collapsed": false,
     "input": [
      "a = np.random.random((9, 11, 14))\n",
      "b = np.random.random((12, 11, 13))"
     ],
     "language": "python",
     "metadata": {},
     "outputs": [],
     "prompt_number": 36
    },
    {
     "cell_type": "code",
     "collapsed": false,
     "input": [
      "#c = a.dot(b)\n",
      "ct = np.tensordot(a, b, (1, 1))\n",
      "#np.linalg.norm(c - ct)"
     ],
     "language": "python",
     "metadata": {},
     "outputs": [],
     "prompt_number": 37
    },
    {
     "cell_type": "code",
     "collapsed": false,
     "input": [
      "ct.shape"
     ],
     "language": "python",
     "metadata": {},
     "outputs": [
      {
       "metadata": {},
       "output_type": "pyout",
       "prompt_number": 38,
       "text": [
        "(9, 14, 12, 13)"
       ]
      }
     ],
     "prompt_number": 38
    },
    {
     "cell_type": "code",
     "collapsed": false,
     "input": [],
     "language": "python",
     "metadata": {},
     "outputs": []
    }
   ],
   "metadata": {}
  }
 ]
}